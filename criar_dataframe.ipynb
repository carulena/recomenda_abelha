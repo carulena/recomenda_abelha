{
 "cells": [
  {
   "cell_type": "code",
   "execution_count": 5,
   "id": "2ba91145",
   "metadata": {},
   "outputs": [],
   "source": [
    "import pandas as pd\n",
    "import numpy as np"
   ]
  },
  {
   "cell_type": "code",
   "execution_count": 6,
   "id": "227bf564",
   "metadata": {},
   "outputs": [],
   "source": [
    "df = pd.DataFrame()"
   ]
  },
  {
   "cell_type": "code",
   "execution_count": 7,
   "id": "6f37dd9b",
   "metadata": {},
   "outputs": [],
   "source": [
    "latitudes = np.arange(-33.7667, 5.2667, 0.01)\n",
    "longitudes = np.arange(-53.0000, -34.7833 ,0.01)\n",
    "\n",
    "#Mesh grid com 1km de distância para cada ponto\n",
    "lat_grid, lon_grid = np.meshgrid(latitudes, longitudes)\n",
    "\n",
    "df = pd.DataFrame({\n",
    "    'Latitude': lat_grid.ravel(),\n",
    "    'Longitude': lon_grid.ravel()\n",
    "})\n",
    "\n",
    "df.to_csv(\"./Dados/coordenadas.csv\")"
   ]
  }
 ],
 "metadata": {
  "kernelspec": {
   "display_name": "venv",
   "language": "python",
   "name": "python3"
  },
  "language_info": {
   "codemirror_mode": {
    "name": "ipython",
    "version": 3
   },
   "file_extension": ".py",
   "mimetype": "text/x-python",
   "name": "python",
   "nbconvert_exporter": "python",
   "pygments_lexer": "ipython3",
   "version": "3.12.9"
  }
 },
 "nbformat": 4,
 "nbformat_minor": 5
}
