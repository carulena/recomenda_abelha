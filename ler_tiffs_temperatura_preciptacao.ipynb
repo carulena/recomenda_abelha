{
 "cells": [
  {
   "cell_type": "code",
   "execution_count": null,
   "metadata": {},
   "outputs": [],
   "source": [
    "import os\n",
    "import numpy as np\n",
    "import rasterio\n",
    "import math\n",
    "import pandas as pd\n",
    "from concurrent.futures import ThreadPoolExecutor\n",
    "from tqdm import tqdm\n",
    "from rasterio.transform import rowcol\n",
    "from joblib import Parallel, delayed\n"
   ]
  },
  {
   "cell_type": "code",
   "execution_count": null,
   "metadata": {},
   "outputs": [],
   "source": [
    "pasta_principal = '../../Dados/Clima/'\n",
    "\n",
    "pastas = [nome for nome in os.listdir(pasta_principal) \n",
    "          if os.path.isdir(os.path.join(pasta_principal, nome))]\n",
    "pastas"
   ]
  },
  {
   "cell_type": "code",
   "execution_count": null,
   "metadata": {},
   "outputs": [],
   "source": [
    "def ajustarNumeros(arr):\n",
    "    return np.where(\n",
    "            arr >= 100,\n",
    "            np.round(arr / 10, 2),\n",
    "            np.round(arr, 2)\n",
    "        )"
   ]
  },
  {
   "cell_type": "code",
   "execution_count": null,
   "metadata": {},
   "outputs": [],
   "source": [
    "# # Função para salvar o arquivo de saída\n",
    "def salvarArquivo(dados, profile, caminho, nome):\n",
    "    os.makedirs(caminho, exist_ok=True)\n",
    "    saida = os.path.join(caminho, f\"{nome}.tif\")\n",
    "    profile.update(dtype='float32', nodata=0)\n",
    "    with rasterio.open(saida, 'w', **profile) as dst:\n",
    "        dst.write(dados, 1)\n",
    "\n",
    "def processarImagens(caminhos, pasta):\n",
    "    profile = None    \n",
    "    max_hist = None\n",
    "    min_hist = None\n",
    "    soma = None\n",
    "    print(pasta)\n",
    "    for caminho in caminhos:\n",
    "        with rasterio.open(caminho) as src:\n",
    "            img = ajustarNumeros(src.read(1))\n",
    "            if profile is None:\n",
    "                profile = src.profile\n",
    "              \n",
    "            if max_hist is None:\n",
    "                max_hist = img.copy()\n",
    "                min_hist = img.copy()\n",
    "                soma = img.astype('float64')\n",
    "            else:\n",
    "                max_hist = np.fmax(max_hist, img)\n",
    "                min_hist = np.fmin(min_hist, img)\n",
    "                soma += img\n",
    "                \n",
    "    avg_hist = soma/len(caminhos)    \n",
    "    salvarArquivo(max_hist.astype('float32'), profile, pasta, \"historico_maximo\")\n",
    "    print(f\"Máximo histórico salvo em {pasta}\")\n",
    "  \n",
    "    salvarArquivo(min_hist.astype('float32'), profile, pasta, \"historico_minimo\")\n",
    "    print(f\"Mínimo histórico salvo em {pasta}\")\n",
    "  \n",
    "  \n",
    "    salvarArquivo(avg_hist.astype('float32'), profile, pasta, \"historico_media\")\n",
    "    print(f\"Média histórica salvo em {pasta}\")\n",
    "            \n",
    "            \n",
    "            \n",
    "def processarPastas(pastas):\n",
    "    with ThreadPoolExecutor() as executor:\n",
    "        futures = []\n",
    "        for pasta in pastas:\n",
    "            caminhos = [os.path.join(f\"{pasta_principal}/{pasta}\", f)\n",
    "            for f in os.listdir(f\"{pasta_principal}/{pasta}\") if f.endswith('.tif')]\n",
    "            futures.append(executor.submit(processarImagens, caminhos, pasta))\n",
    "        for future in futures:\n",
    "            future.result()\n",
    "\n",
    "processarPastas([os.path.join(pasta_principal, pasta) for pasta in pastas])"
   ]
  },
  {
   "cell_type": "code",
   "execution_count": null,
   "metadata": {},
   "outputs": [],
   "source": [
    "with rasterio.open(f\"{pasta_principal}/{pastas[1]}/historico_minimo.tif\") as src: \n",
    "    valores = src.read(1)\n",
    "    "
   ]
  },
  {
   "cell_type": "code",
   "execution_count": null,
   "metadata": {},
   "outputs": [],
   "source": [
    "df = pd.read_csv(\"../../Dados/coordenadas_com_indices.csv\", index_col=0)\n",
    "df"
   ]
  },
  {
   "cell_type": "code",
   "execution_count": null,
   "metadata": {},
   "outputs": [],
   "source": [
    "def lerValorPixel(lat, long, imagem):\n",
    "    with rasterio.open(imagem) as src:\n",
    "        row, col = rowcol(src.transform, long, lat)\n",
    "        return src.read(1)[row, col]"
   ]
  },
  {
   "cell_type": "code",
   "execution_count": null,
   "metadata": {},
   "outputs": [],
   "source": [
    "def processarLinha(lat, lon, tiff_path):\n",
    "    return lerValorPixel(lat, lon, tiff_path)"
   ]
  },
  {
   "cell_type": "code",
   "execution_count": null,
   "metadata": {},
   "outputs": [],
   "source": [
    "tiff_path = f'{pasta_principal}/Temperatura Máxima/historico_maximo.tif'\n",
    "\n",
    "df['TempMax-Max'] = Parallel(n_jobs=4)(\n",
    "    delayed(processarLinha)(row.Latitude, row.Longitude, tiff_path) for row in tqdm(df.itertuples(index=False), total=len(df), desc=\"Processando\")\n",
    ")"
   ]
  }
 ],
 "metadata": {
  "kernelspec": {
   "display_name": "venv",
   "language": "python",
   "name": "python3"
  },
  "language_info": {
   "codemirror_mode": {
    "name": "ipython",
    "version": 3
   },
   "file_extension": ".py",
   "mimetype": "text/x-python",
   "name": "python",
   "nbconvert_exporter": "python",
   "pygments_lexer": "ipython3",
   "version": "3.11.0"
  }
 },
 "nbformat": 4,
 "nbformat_minor": 2
}
