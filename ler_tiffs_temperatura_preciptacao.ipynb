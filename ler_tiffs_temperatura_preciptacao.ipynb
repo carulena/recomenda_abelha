{
 "cells": [
  {
   "cell_type": "code",
   "execution_count": 1,
   "metadata": {},
   "outputs": [],
   "source": [
    "import os\n",
    "import numpy as np\n",
    "import rasterio\n",
    "import math\n",
    "import pandas as pd\n",
    "from concurrent.futures import ThreadPoolExecutor\n",
    "from tqdm import tqdm\n",
    "from rasterio.transform import rowcol\n",
    "from joblib import Parallel, delayed\n"
   ]
  },
  {
   "cell_type": "code",
   "execution_count": 2,
   "metadata": {},
   "outputs": [
    {
     "data": {
      "text/plain": [
       "['Precipitação', 'Temperatura Máxima', 'Temperatura Mínima']"
      ]
     },
     "execution_count": 2,
     "metadata": {},
     "output_type": "execute_result"
    }
   ],
   "source": [
    "pasta_principal = './Dados/Clima/'\n",
    "\n",
    "pastas = [nome for nome in os.listdir(pasta_principal) \n",
    "          if os.path.isdir(os.path.join(pasta_principal, nome))]\n",
    "pastas"
   ]
  },
  {
   "cell_type": "code",
   "execution_count": 3,
   "metadata": {},
   "outputs": [],
   "source": [
    "def ajustarNumeros(arr):\n",
    "    return np.where(\n",
    "            arr >= 100,\n",
    "            np.round(arr / 10, 2),\n",
    "            np.round(arr, 2)\n",
    "        )"
   ]
  },
  {
   "cell_type": "code",
   "execution_count": 4,
   "metadata": {},
   "outputs": [
    {
     "name": "stdout",
     "output_type": "stream",
     "text": [
      "Precipitação\n",
      "Temperatura Máxima\n",
      "Temperatura Mínima\n",
      "Máximo histórico salvo em Precipitação\n",
      "Mínimo histórico salvo em Precipitação\n",
      "Média histórica salvo em Precipitação\n",
      "Máximo histórico salvo em Temperatura Máxima\n",
      "Máximo histórico salvo em Temperatura Mínima\n",
      "Mínimo histórico salvo em Temperatura Máxima\n",
      "Mínimo histórico salvo em Temperatura Mínima\n",
      "Média histórica salvo em Temperatura Máxima\n",
      "Média histórica salvo em Temperatura Mínima\n"
     ]
    }
   ],
   "source": [
    "# # Função para salvar o arquivo de saída\n",
    "\n",
    "def salvarArquivo(dados, profile, caminho, nome):\n",
    "    os.makedirs(caminho, exist_ok=True)\n",
    "    saida = os.path.join(caminho, f\"{nome}.tif\")\n",
    "    profile.update(dtype='float32', nodata=0)\n",
    "    with rasterio.open(saida, 'w', **profile) as dst:\n",
    "        dst.write(dados, 1)\n",
    "\n",
    "def processarImagens(caminhos, pasta):\n",
    "    profile = None    \n",
    "    max_hist = None\n",
    "    min_hist = None\n",
    "    soma = None\n",
    "    print(pasta)\n",
    "    for caminho in caminhos:\n",
    "        with rasterio.open(caminho) as src:\n",
    "            img = ajustarNumeros(src.read(1))\n",
    "            if profile is None:\n",
    "                profile = src.profile\n",
    "              \n",
    "            if max_hist is None:\n",
    "                max_hist = img.copy()\n",
    "                min_hist = img.copy()\n",
    "                soma = img.astype('float64')\n",
    "            else:\n",
    "                max_hist = np.fmax(max_hist, img)\n",
    "                min_hist = np.fmin(min_hist, img)\n",
    "                soma += img\n",
    "                \n",
    "    avg_hist = soma/len(caminhos)    \n",
    "    salvarArquivo(max_hist.astype('float32'), profile, pasta, \"historico_maximo\")\n",
    "    print(f\"Máximo histórico salvo em {pasta}\")\n",
    "  \n",
    "    salvarArquivo(min_hist.astype('float32'), profile, pasta, \"historico_minimo\")\n",
    "    print(f\"Mínimo histórico salvo em {pasta}\")\n",
    "  \n",
    "  \n",
    "    salvarArquivo(avg_hist.astype('float32'), profile, pasta, \"historico_media\")\n",
    "    print(f\"Média histórica salvo em {pasta}\")\n",
    "            \n",
    "            \n",
    "            \n",
    "def processarPastas():\n",
    "    with ThreadPoolExecutor() as executor:\n",
    "        futures = []\n",
    "        for pasta in pastas:\n",
    "            caminhos = [os.path.join(f\"{pasta_principal}/{pasta}\", f)\n",
    "            for f in os.listdir(f\"{pasta_principal}/{pasta}\") if f.endswith('.tif')]\n",
    "            futures.append(executor.submit(processarImagens, caminhos, pasta))\n",
    "        for future in futures:\n",
    "            future.result()\n",
    "\n",
    "processarPastas()"
   ]
  },
  {
   "cell_type": "code",
   "execution_count": 5,
   "metadata": {},
   "outputs": [],
   "source": [
    "with rasterio.open(f\"{pasta_principal}/{pastas[1]}/historico_minimo.tif\") as src: \n",
    "    valores = src.read(1)\n",
    "    "
   ]
  },
  {
   "cell_type": "code",
   "execution_count": 2,
   "metadata": {},
   "outputs": [
    {
     "data": {
      "text/html": [
       "<div>\n",
       "<style scoped>\n",
       "    .dataframe tbody tr th:only-of-type {\n",
       "        vertical-align: middle;\n",
       "    }\n",
       "\n",
       "    .dataframe tbody tr th {\n",
       "        vertical-align: top;\n",
       "    }\n",
       "\n",
       "    .dataframe thead th {\n",
       "        text-align: right;\n",
       "    }\n",
       "</style>\n",
       "<table border=\"1\" class=\"dataframe\">\n",
       "  <thead>\n",
       "    <tr style=\"text-align: right;\">\n",
       "      <th></th>\n",
       "      <th>Latitude</th>\n",
       "      <th>Longitude</th>\n",
       "      <th>NDVI</th>\n",
       "      <th>NDWI</th>\n",
       "    </tr>\n",
       "  </thead>\n",
       "  <tbody>\n",
       "    <tr>\n",
       "      <th>83946</th>\n",
       "      <td>-13.71</td>\n",
       "      <td>-73.78</td>\n",
       "      <td>0.517695</td>\n",
       "      <td>-0.521197</td>\n",
       "    </tr>\n",
       "    <tr>\n",
       "      <th>83947</th>\n",
       "      <td>-13.70</td>\n",
       "      <td>-73.78</td>\n",
       "      <td>0.534019</td>\n",
       "      <td>-0.532493</td>\n",
       "    </tr>\n",
       "    <tr>\n",
       "      <th>83948</th>\n",
       "      <td>-13.69</td>\n",
       "      <td>-73.78</td>\n",
       "      <td>0.591257</td>\n",
       "      <td>-0.564566</td>\n",
       "    </tr>\n",
       "    <tr>\n",
       "      <th>83949</th>\n",
       "      <td>-13.68</td>\n",
       "      <td>-73.78</td>\n",
       "      <td>0.632028</td>\n",
       "      <td>-0.594361</td>\n",
       "    </tr>\n",
       "    <tr>\n",
       "      <th>83950</th>\n",
       "      <td>-13.67</td>\n",
       "      <td>-73.78</td>\n",
       "      <td>0.648493</td>\n",
       "      <td>-0.592593</td>\n",
       "    </tr>\n",
       "    <tr>\n",
       "      <th>...</th>\n",
       "      <td>...</td>\n",
       "      <td>...</td>\n",
       "      <td>...</td>\n",
       "      <td>...</td>\n",
       "    </tr>\n",
       "    <tr>\n",
       "      <th>15295100</th>\n",
       "      <td>-2.13</td>\n",
       "      <td>-34.80</td>\n",
       "      <td>0.000000</td>\n",
       "      <td>0.000000</td>\n",
       "    </tr>\n",
       "    <tr>\n",
       "      <th>15295101</th>\n",
       "      <td>-2.12</td>\n",
       "      <td>-34.80</td>\n",
       "      <td>0.000000</td>\n",
       "      <td>0.000000</td>\n",
       "    </tr>\n",
       "    <tr>\n",
       "      <th>15295102</th>\n",
       "      <td>-2.11</td>\n",
       "      <td>-34.80</td>\n",
       "      <td>0.000000</td>\n",
       "      <td>0.000000</td>\n",
       "    </tr>\n",
       "    <tr>\n",
       "      <th>15295103</th>\n",
       "      <td>-2.10</td>\n",
       "      <td>-34.80</td>\n",
       "      <td>0.000000</td>\n",
       "      <td>0.000000</td>\n",
       "    </tr>\n",
       "    <tr>\n",
       "      <th>15295104</th>\n",
       "      <td>-2.09</td>\n",
       "      <td>-34.80</td>\n",
       "      <td>0.000000</td>\n",
       "      <td>0.000000</td>\n",
       "    </tr>\n",
       "  </tbody>\n",
       "</table>\n",
       "<p>9272393 rows × 4 columns</p>\n",
       "</div>"
      ],
      "text/plain": [
       "          Latitude  Longitude      NDVI      NDWI\n",
       "83946       -13.71     -73.78  0.517695 -0.521197\n",
       "83947       -13.70     -73.78  0.534019 -0.532493\n",
       "83948       -13.69     -73.78  0.591257 -0.564566\n",
       "83949       -13.68     -73.78  0.632028 -0.594361\n",
       "83950       -13.67     -73.78  0.648493 -0.592593\n",
       "...            ...        ...       ...       ...\n",
       "15295100     -2.13     -34.80  0.000000  0.000000\n",
       "15295101     -2.12     -34.80  0.000000  0.000000\n",
       "15295102     -2.11     -34.80  0.000000  0.000000\n",
       "15295103     -2.10     -34.80  0.000000  0.000000\n",
       "15295104     -2.09     -34.80  0.000000  0.000000\n",
       "\n",
       "[9272393 rows x 4 columns]"
      ]
     },
     "execution_count": 2,
     "metadata": {},
     "output_type": "execute_result"
    }
   ],
   "source": [
    "df = pd.read_csv(\"./Dados/coordenadas_com_indices.csv\", index_col=0)\n",
    "df = df.dropna()\n",
    "\n",
    "df"
   ]
  },
  {
   "cell_type": "code",
   "execution_count": null,
   "metadata": {},
   "outputs": [
    {
     "name": "stderr",
     "output_type": "stream",
     "text": [
      "Lendo pixels: 100%|██████████| 5181712/5181712 [05:47<00:00, 14899.40it/s]\n"
     ]
    }
   ],
   "source": [
    "tiff_path = f'{pasta_principal}/Temperatura Máxima/historico_media.tif'\n",
    "\n",
    "# Criar lista de coordenadas (no formato lon, lat para rasterio)\n",
    "coords = [(lon, lat) for lat, lon in zip(df['Latitude'], df['Longitude'])]\n",
    "\n",
    "# Abrir o TIFF uma vez e coletar os valores\n",
    "with rasterio.open(tiff_path) as src:\n",
    "    maxmedia = [val[0] for val in tqdm(src.sample(coords), total=len(coords), desc=\"Lendo pixels\")]\n",
    "\n"
   ]
  },
  {
   "cell_type": "code",
   "execution_count": null,
   "metadata": {},
   "outputs": [
    {
     "name": "stderr",
     "output_type": "stream",
     "text": [
      "Lendo pixels: 100%|██████████| 5181712/5181712 [05:47<00:00, 14931.78it/s]\n"
     ]
    }
   ],
   "source": [
    "tiff_path = f'{pasta_principal}/Temperatura Mínima/historico_media.tif'\n",
    "\n",
    "\n",
    "# Criar lista de coordenadas (no formato lon, lat para rasterio)\n",
    "coords = [(lon, lat) for lat, lon in zip(df['Latitude'], df['Longitude'])]\n",
    "\n",
    "# Abrir o TIFF uma vez e coletar os valores\n",
    "with rasterio.open(tiff_path) as src:\n",
    "    minmedia = [val[0] for val in tqdm(src.sample(coords), total=len(coords), desc=\"Lendo pixels\")]\n"
   ]
  },
  {
   "cell_type": "code",
   "execution_count": 14,
   "metadata": {},
   "outputs": [],
   "source": [
    "df['TempMédia'] = (df['Max-Media'] + df['Min-Media'])/2"
   ]
  },
  {
   "cell_type": "code",
   "execution_count": 15,
   "metadata": {},
   "outputs": [
    {
     "name": "stderr",
     "output_type": "stream",
     "text": [
      "Lendo pixels: 100%|██████████| 5181712/5181712 [05:48<00:00, 14868.47it/s]\n"
     ]
    }
   ],
   "source": [
    "tiff_path = f'{pasta_principal}/Precipitação/historico_media.tif'\n",
    "\n",
    "\n",
    "# Criar lista de coordenadas (no formato lon, lat para rasterio)\n",
    "coords = [(lon, lat) for lat, lon in zip(df['Latitude'], df['Longitude'])]\n",
    "\n",
    "# Abrir o TIFF uma vez e coletar os valores\n",
    "with rasterio.open(tiff_path) as src:\n",
    "    valores = [val[0] for val in tqdm(src.sample(coords), total=len(coords), desc=\"Lendo pixels\")]\n",
    "\n",
    "df['Precipitacao'] = valores"
   ]
  },
  {
   "cell_type": "code",
   "execution_count": null,
   "metadata": {},
   "outputs": [],
   "source": [
    "df.head()\n",
    "df.dropna()\n",
    "\n",
    "df.to_csv(\"./Dados/coordenadas_com_indices_sem_nan.csv\")"
   ]
  }
 ],
 "metadata": {
  "kernelspec": {
   "display_name": "venv",
   "language": "python",
   "name": "python3"
  },
  "language_info": {
   "codemirror_mode": {
    "name": "ipython",
    "version": 3
   },
   "file_extension": ".py",
   "mimetype": "text/x-python",
   "name": "python",
   "nbconvert_exporter": "python",
   "pygments_lexer": "ipython3",
   "version": "3.12.9"
  }
 },
 "nbformat": 4,
 "nbformat_minor": 2
}
