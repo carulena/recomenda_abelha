{
 "cells": [
  {
   "cell_type": "code",
   "execution_count": 1,
   "metadata": {},
   "outputs": [],
   "source": [
    "import os\n",
    "import numpy as np\n",
    "import rasterio\n",
    "import math\n",
    "import pandas as pd\n",
    "from concurrent.futures import ThreadPoolExecutor\n",
    "from tqdm import tqdm\n",
    "from rasterio.transform import rowcol\n",
    "from joblib import Parallel, delayed\n"
   ]
  },
  {
   "cell_type": "code",
   "execution_count": 2,
   "metadata": {},
   "outputs": [
    {
     "data": {
      "text/plain": [
       "['Precipitação', 'Temperatura Máxima', 'Temperatura Mínima']"
      ]
     },
     "execution_count": 2,
     "metadata": {},
     "output_type": "execute_result"
    }
   ],
   "source": [
    "pasta_principal = './Dados/Clima/'\n",
    "\n",
    "pastas = [nome for nome in os.listdir(pasta_principal) \n",
    "          if os.path.isdir(os.path.join(pasta_principal, nome))]\n",
    "pastas"
   ]
  },
  {
   "cell_type": "code",
   "execution_count": 3,
   "metadata": {},
   "outputs": [],
   "source": [
    "def ajustarNumeros(arr):\n",
    "    return np.where(\n",
    "            arr >= 100,\n",
    "            np.round(arr / 10, 2),\n",
    "            np.round(arr, 2)\n",
    "        )"
   ]
  },
  {
   "cell_type": "code",
   "execution_count": 4,
   "metadata": {},
   "outputs": [
    {
     "name": "stdout",
     "output_type": "stream",
     "text": [
      "Precipitação\n",
      "Temperatura Máxima\n",
      "Temperatura Mínima\n",
      "Máximo histórico salvo em Precipitação\n",
      "Mínimo histórico salvo em Precipitação\n",
      "Média histórica salvo em Precipitação\n",
      "Máximo histórico salvo em Temperatura Máxima\n",
      "Máximo histórico salvo em Temperatura Mínima\n",
      "Mínimo histórico salvo em Temperatura Máxima\n",
      "Mínimo histórico salvo em Temperatura Mínima\n",
      "Média histórica salvo em Temperatura Máxima\n",
      "Média histórica salvo em Temperatura Mínima\n"
     ]
    }
   ],
   "source": [
    "# # Função para salvar o arquivo de saída\n",
    "\n",
    "def salvarArquivo(dados, profile, caminho, nome):\n",
    "    os.makedirs(caminho, exist_ok=True)\n",
    "    saida = os.path.join(caminho, f\"{nome}.tif\")\n",
    "    profile.update(dtype='float32', nodata=0)\n",
    "    with rasterio.open(saida, 'w', **profile) as dst:\n",
    "        dst.write(dados, 1)\n",
    "\n",
    "def processarImagens(caminhos, pasta):\n",
    "    profile = None    \n",
    "    max_hist = None\n",
    "    min_hist = None\n",
    "    soma = None\n",
    "    print(pasta)\n",
    "    for caminho in caminhos:\n",
    "        with rasterio.open(caminho) as src:\n",
    "            img = ajustarNumeros(src.read(1))\n",
    "            if profile is None:\n",
    "                profile = src.profile\n",
    "              \n",
    "            if max_hist is None:\n",
    "                max_hist = img.copy()\n",
    "                min_hist = img.copy()\n",
    "                soma = img.astype('float64')\n",
    "            else:\n",
    "                max_hist = np.fmax(max_hist, img)\n",
    "                min_hist = np.fmin(min_hist, img)\n",
    "                soma += img\n",
    "                \n",
    "    avg_hist = soma/len(caminhos)    \n",
    "    salvarArquivo(max_hist.astype('float32'), profile, pasta, \"historico_maximo\")\n",
    "    print(f\"Máximo histórico salvo em {pasta}\")\n",
    "  \n",
    "    salvarArquivo(min_hist.astype('float32'), profile, pasta, \"historico_minimo\")\n",
    "    print(f\"Mínimo histórico salvo em {pasta}\")\n",
    "  \n",
    "  \n",
    "    salvarArquivo(avg_hist.astype('float32'), profile, pasta, \"historico_media\")\n",
    "    print(f\"Média histórica salvo em {pasta}\")\n",
    "            \n",
    "            \n",
    "            \n",
    "def processarPastas():\n",
    "    with ThreadPoolExecutor() as executor:\n",
    "        futures = []\n",
    "        for pasta in pastas:\n",
    "            caminhos = [os.path.join(f\"{pasta_principal}/{pasta}\", f)\n",
    "            for f in os.listdir(f\"{pasta_principal}/{pasta}\") if f.endswith('.tif')]\n",
    "            futures.append(executor.submit(processarImagens, caminhos, pasta))\n",
    "        for future in futures:\n",
    "            future.result()\n",
    "\n",
    "processarPastas()"
   ]
  },
  {
   "cell_type": "code",
   "execution_count": 5,
   "metadata": {},
   "outputs": [],
   "source": [
    "with rasterio.open(f\"{pasta_principal}/{pastas[1]}/historico_minimo.tif\") as src: \n",
    "    valores = src.read(1)\n",
    "    "
   ]
  },
  {
   "cell_type": "code",
   "execution_count": 6,
   "metadata": {},
   "outputs": [
    {
     "data": {
      "text/html": [
       "<div>\n",
       "<style scoped>\n",
       "    .dataframe tbody tr th:only-of-type {\n",
       "        vertical-align: middle;\n",
       "    }\n",
       "\n",
       "    .dataframe tbody tr th {\n",
       "        vertical-align: top;\n",
       "    }\n",
       "\n",
       "    .dataframe thead th {\n",
       "        text-align: right;\n",
       "    }\n",
       "</style>\n",
       "<table border=\"1\" class=\"dataframe\">\n",
       "  <thead>\n",
       "    <tr style=\"text-align: right;\">\n",
       "      <th></th>\n",
       "      <th>Latitude</th>\n",
       "      <th>Longitude</th>\n",
       "      <th>NDVI</th>\n",
       "      <th>NDWI</th>\n",
       "    </tr>\n",
       "  </thead>\n",
       "  <tbody>\n",
       "    <tr>\n",
       "      <th>0</th>\n",
       "      <td>-33.7667</td>\n",
       "      <td>-53.00</td>\n",
       "      <td>-0.085265</td>\n",
       "      <td>0.205043</td>\n",
       "    </tr>\n",
       "    <tr>\n",
       "      <th>1</th>\n",
       "      <td>-33.7567</td>\n",
       "      <td>-53.00</td>\n",
       "      <td>-0.085106</td>\n",
       "      <td>0.204434</td>\n",
       "    </tr>\n",
       "    <tr>\n",
       "      <th>2</th>\n",
       "      <td>-33.7467</td>\n",
       "      <td>-53.00</td>\n",
       "      <td>-0.080180</td>\n",
       "      <td>0.209891</td>\n",
       "    </tr>\n",
       "    <tr>\n",
       "      <th>3</th>\n",
       "      <td>-33.7367</td>\n",
       "      <td>-53.00</td>\n",
       "      <td>-0.097075</td>\n",
       "      <td>0.238046</td>\n",
       "    </tr>\n",
       "    <tr>\n",
       "      <th>4</th>\n",
       "      <td>-33.7267</td>\n",
       "      <td>-53.00</td>\n",
       "      <td>-0.096325</td>\n",
       "      <td>0.242810</td>\n",
       "    </tr>\n",
       "    <tr>\n",
       "      <th>...</th>\n",
       "      <td>...</td>\n",
       "      <td>...</td>\n",
       "      <td>...</td>\n",
       "      <td>...</td>\n",
       "    </tr>\n",
       "    <tr>\n",
       "      <th>7112348</th>\n",
       "      <td>-2.1267</td>\n",
       "      <td>-34.79</td>\n",
       "      <td>0.000000</td>\n",
       "      <td>0.000000</td>\n",
       "    </tr>\n",
       "    <tr>\n",
       "      <th>7112349</th>\n",
       "      <td>-2.1167</td>\n",
       "      <td>-34.79</td>\n",
       "      <td>0.000000</td>\n",
       "      <td>0.000000</td>\n",
       "    </tr>\n",
       "    <tr>\n",
       "      <th>7112350</th>\n",
       "      <td>-2.1067</td>\n",
       "      <td>-34.79</td>\n",
       "      <td>0.000000</td>\n",
       "      <td>0.000000</td>\n",
       "    </tr>\n",
       "    <tr>\n",
       "      <th>7112351</th>\n",
       "      <td>-2.0967</td>\n",
       "      <td>-34.79</td>\n",
       "      <td>0.000000</td>\n",
       "      <td>0.000000</td>\n",
       "    </tr>\n",
       "    <tr>\n",
       "      <th>7112352</th>\n",
       "      <td>-2.0867</td>\n",
       "      <td>-34.79</td>\n",
       "      <td>0.000000</td>\n",
       "      <td>0.000000</td>\n",
       "    </tr>\n",
       "  </tbody>\n",
       "</table>\n",
       "<p>5181712 rows × 4 columns</p>\n",
       "</div>"
      ],
      "text/plain": [
       "         Latitude  Longitude      NDVI      NDWI\n",
       "0        -33.7667     -53.00 -0.085265  0.205043\n",
       "1        -33.7567     -53.00 -0.085106  0.204434\n",
       "2        -33.7467     -53.00 -0.080180  0.209891\n",
       "3        -33.7367     -53.00 -0.097075  0.238046\n",
       "4        -33.7267     -53.00 -0.096325  0.242810\n",
       "...           ...        ...       ...       ...\n",
       "7112348   -2.1267     -34.79  0.000000  0.000000\n",
       "7112349   -2.1167     -34.79  0.000000  0.000000\n",
       "7112350   -2.1067     -34.79  0.000000  0.000000\n",
       "7112351   -2.0967     -34.79  0.000000  0.000000\n",
       "7112352   -2.0867     -34.79  0.000000  0.000000\n",
       "\n",
       "[5181712 rows x 4 columns]"
      ]
     },
     "execution_count": 6,
     "metadata": {},
     "output_type": "execute_result"
    }
   ],
   "source": [
    "df = pd.read_csv(\"./Dados/coordenadas_com_indices.csv\", index_col=0)\n",
    "df = df.dropna()\n",
    "\n",
    "df"
   ]
  },
  {
   "cell_type": "code",
   "execution_count": 12,
   "metadata": {},
   "outputs": [
    {
     "name": "stderr",
     "output_type": "stream",
     "text": [
      "Lendo pixels: 100%|██████████| 5181712/5181712 [05:47<00:00, 14899.40it/s]\n"
     ]
    }
   ],
   "source": [
    "tiff_path = f'{pasta_principal}/Temperatura Máxima/historico_media.tif'\n",
    "\n",
    "# Criar lista de coordenadas (no formato lon, lat para rasterio)\n",
    "coords = [(lon, lat) for lat, lon in zip(df['Latitude'], df['Longitude'])]\n",
    "\n",
    "# Abrir o TIFF uma vez e coletar os valores\n",
    "with rasterio.open(tiff_path) as src:\n",
    "    valores = [val[0] for val in tqdm(src.sample(coords), total=len(coords), desc=\"Lendo pixels\")]\n",
    "\n",
    "df['Max-Media'] = valores"
   ]
  },
  {
   "cell_type": "code",
   "execution_count": 13,
   "metadata": {},
   "outputs": [
    {
     "name": "stderr",
     "output_type": "stream",
     "text": [
      "Lendo pixels: 100%|██████████| 5181712/5181712 [05:47<00:00, 14931.78it/s]\n"
     ]
    }
   ],
   "source": [
    "tiff_path = f'{pasta_principal}/Temperatura Mínima/historico_media.tif'\n",
    "\n",
    "\n",
    "# Criar lista de coordenadas (no formato lon, lat para rasterio)\n",
    "coords = [(lon, lat) for lat, lon in zip(df['Latitude'], df['Longitude'])]\n",
    "\n",
    "# Abrir o TIFF uma vez e coletar os valores\n",
    "with rasterio.open(tiff_path) as src:\n",
    "    valores = [val[0] for val in tqdm(src.sample(coords), total=len(coords), desc=\"Lendo pixels\")]\n",
    "\n",
    "df['Min-Media'] = valores"
   ]
  },
  {
   "cell_type": "code",
   "execution_count": 14,
   "metadata": {},
   "outputs": [],
   "source": [
    "df['TempMédia'] = (df['Max-Media'] + df['Min-Media'])/2"
   ]
  },
  {
   "cell_type": "code",
   "execution_count": 15,
   "metadata": {},
   "outputs": [
    {
     "name": "stderr",
     "output_type": "stream",
     "text": [
      "Lendo pixels: 100%|██████████| 5181712/5181712 [05:48<00:00, 14868.47it/s]\n"
     ]
    }
   ],
   "source": [
    "tiff_path = f'{pasta_principal}/Precipitação/historico_media.tif'\n",
    "\n",
    "\n",
    "# Criar lista de coordenadas (no formato lon, lat para rasterio)\n",
    "coords = [(lon, lat) for lat, lon in zip(df['Latitude'], df['Longitude'])]\n",
    "\n",
    "# Abrir o TIFF uma vez e coletar os valores\n",
    "with rasterio.open(tiff_path) as src:\n",
    "    valores = [val[0] for val in tqdm(src.sample(coords), total=len(coords), desc=\"Lendo pixels\")]\n",
    "\n",
    "df['Precipitacao'] = valores"
   ]
  },
  {
   "cell_type": "code",
   "execution_count": null,
   "metadata": {},
   "outputs": [],
   "source": [
    "df.head()\n",
    "df.dropna()\n",
    "\n",
    "df.to_csv(\"./Dados/coordenadas_com_indices_sem_nan.csv\")"
   ]
  }
 ],
 "metadata": {
  "kernelspec": {
   "display_name": "venv",
   "language": "python",
   "name": "python3"
  },
  "language_info": {
   "codemirror_mode": {
    "name": "ipython",
    "version": 3
   },
   "file_extension": ".py",
   "mimetype": "text/x-python",
   "name": "python",
   "nbconvert_exporter": "python",
   "pygments_lexer": "ipython3",
   "version": "3.12.9"
  }
 },
 "nbformat": 4,
 "nbformat_minor": 2
}
